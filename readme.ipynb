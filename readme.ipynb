{
 "cells": [
  {
   "cell_type": "markdown",
   "id": "568eba22-23c4-433c-921d-ec63ee766209",
   "metadata": {},
   "source": [
    "# Создание виртуального окружения для работы Python 3.12\n",
    " python -m venv Py312 \n",
    "# активация виртуального окружения\n",
    " .Py312v\\Scripts\\activat\n",
    "# Установка YOLO v5\n",
    "git clone https://github.com/ultralytics/yolov5.git\n",
    "pip install ultralytics\n",
    "cd yolov5\n",
    "pip install -r requirements.txt  # install# Далее следуют ошибки совместимости пакетовpe"
   ]
  },
  {
   "cell_type": "markdown",
   "id": "d766962c-a208-41f5-b699-306ec4eabd2a",
   "metadata": {},
   "source": [
    "# Удалил виртуальное окружение Python 3.12 установил Python 3.10\n",
    "# Повторил \n",
    " python -m venv Py310\n",
    "# активация виртуального окружения\n",
    ".\\Py310\\Scripts\\activate\n",
    "# Установка YOLO v5\n",
    "git clone https://github.com/ultralytics/yolov5.git\n",
    "pip install ultralytics\n",
    "cd yolov5\n",
    "pip install -r requirements.txt  # install"
   ]
  },
  {
   "cell_type": "markdown",
   "id": "1a1cbc46-b2d1-4a35-99ee-c841ebd6b991",
   "metadata": {},
   "source": [
    "# Запустим детектирование с камеры\n",
    "python detect.py --weights yolov5s.pt --source 0 --save-crop\n",
    "\n",
    "# результаты детектирования кота\n",
    "runs/detect/exp8/crops/cat:            "
   ]
  },
  {
   "cell_type": "markdown",
   "id": "53e07ffe",
   "metadata": {},
   "source": [
    "![alt text](yolov5/runs/detect/exp8/crops/cat/065.jpg)\n",
    "![alt text](yolov5/runs/detect/exp8/crops/cat/069.jpg)\n",
    "![alt text](yolov5/runs/detect/exp8/crops/cat/070.jpg)\n",
    "![alt text](yolov5/runs/detect/exp8/crops/cat/033.jpg)"
   ]
  },
  {
   "cell_type": "markdown",
   "id": "8776337c",
   "metadata": {},
   "source": [
    "---\n",
    "# Кастомное Обучение и Тестирование\n",
    "\n",
    "Создадим модель детектирования распознавания показаний счетчика учета воды  \n",
    "Для этого сгенерируем синтетические картинки счетчиков и аннотаций к ним в формате YOLO  \n",
    "Данные датасета сохранены ..\\datasets\\dpi  \n",
    "![alt text](datasets/dpi/images/0.jpg)\n",
    "<img src=datasets/dpi/images/0.jpg\" alt=\"image\" width=\"300\" height=\"auto\">"
   ]
  }
 ],
 "metadata": {
  "kernelspec": {
   "display_name": "Python 3 (ipykernel)",
   "language": "python",
   "name": "python3"
  },
  "language_info": {
   "codemirror_mode": {
    "name": "ipython",
    "version": 3
   },
   "file_extension": ".py",
   "mimetype": "text/x-python",
   "name": "python",
   "nbconvert_exporter": "python",
   "pygments_lexer": "ipython3",
   "version": "3.11.7"
  }
 },
 "nbformat": 4,
 "nbformat_minor": 5
}
